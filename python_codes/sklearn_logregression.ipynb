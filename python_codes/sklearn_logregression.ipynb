{
  "nbformat": 4,
  "nbformat_minor": 0,
  "metadata": {
    "colab": {
      "name": "sklearn_logregression.ipynb",
      "version": "0.3.2",
      "provenance": [],
      "collapsed_sections": [],
      "include_colab_link": true
    },
    "kernelspec": {
      "name": "python3",
      "display_name": "Python 3"
    }
  },
  "cells": [
    {
      "cell_type": "markdown",
      "metadata": {
        "id": "view-in-github",
        "colab_type": "text"
      },
      "source": [
        "<a href=\"https://colab.research.google.com/github/saunter999/Machine_learning/blob/master/sklearn_logregression.ipynb\" target=\"_parent\"><img src=\"https://colab.research.google.com/assets/colab-badge.svg\" alt=\"Open In Colab\"/></a>"
      ]
    },
    {
      "metadata": {
        "id": "zTqxMv0m6fXv",
        "colab_type": "code",
        "colab": {
          "base_uri": "https://localhost:8080/",
          "height": 1062
        },
        "outputId": "22018ac7-17c3-45c4-d5b9-b01e06523c35"
      },
      "cell_type": "code",
      "source": [
        "from sklearn.linear_model import LogisticRegression as LR\n",
        "from sklearn.model_selection import cross_val_score as cvs\n",
        "import pandas as pd\n",
        "\n",
        "if __name__==\"__main__\":\n",
        "    url='https://raw.githubusercontent.com/saunter999/datasets/master/score_admit.csv'\n",
        "    df=pd.read_csv(url,header=None,names=['score1','score2','admit_status'])\n",
        "    X,Y=df.values[:,:-1],df.values[:,-1]\n",
        "    #testing solver\n",
        "    solls=['newton-cg','lbfgs', 'liblinear', 'sag', 'saga' ]\n",
        "    for solver in solls:\n",
        "      ##training the model\n",
        "      myLogReg=LR(C=1e3,max_iter=40,solver=solver).fit(X,Y)\n",
        "      x1=[[45,85]]\n",
        "      ##Print out trained parameter\n",
        "      y1=myLogReg.predict_proba(x1)\n",
        "      print(\"slover used is\",solver)\n",
        "      print(\"Sets of classes:\",myLogReg.classes_,\",Trained bias:\",myLogReg.intercept_,\",Trained Theta:\",myLogReg.coef_)\n",
        "      print(\"Probability of admited for (45,85):\",y1)\n",
        "      ##Accuracy of the whole training set\n",
        "      score=myLogReg.score(X,Y)\n",
        "      print(\"Accuracy tested on the whole training set:\",score)\n",
        "     \n",
        "      ##Cross-Validation test of the trained predictor\n",
        "      Valid_score=cvs(myLogReg,X,Y,cv=5)\n",
        "      print('Validation accuracy on validation test:',Valid_score.mean())\n",
        "      print('\\n')\n",
        "      "
      ],
      "execution_count": 38,
      "outputs": [
        {
          "output_type": "stream",
          "text": [
            "slover used is newton-cg\n",
            "Sets of classes: [0. 1.] ,Trained bias: [-25.16109753] ,Trained Theta: [[0.20622982 0.20146969]]\n",
            "Probability of admited for (45,85): [[0.22371135 0.77628865]]\n",
            "Accuracy tested on the whole training set: 0.89\n",
            "Validation accuracy on validation test: 0.9\n",
            "\n",
            "\n",
            "slover used is lbfgs\n",
            "Sets of classes: [0. 1.] ,Trained bias: [-25.16127539] ,Trained Theta: [[0.20623134 0.20147101]]\n",
            "Probability of admited for (45,85): [[0.22371088 0.77628912]]\n",
            "Accuracy tested on the whole training set: 0.89\n",
            "Validation accuracy on validation test: 0.9\n",
            "\n",
            "\n",
            "slover used is liblinear\n",
            "Sets of classes: [0. 1.] ,Trained bias: [-22.68636305] ,Trained Theta: [[0.18643985 0.18144394]]\n",
            "Probability of admited for (45,85): [[0.24486948 0.75513052]]\n",
            "Accuracy tested on the whole training set: 0.89\n",
            "Validation accuracy on validation test: 0.89\n",
            "\n",
            "\n",
            "slover used is sag\n",
            "Sets of classes: [0. 1.] ,Trained bias: [-0.0652598] ,Trained Theta: [[0.01087701 0.00095928]]\n",
            "Probability of admited for (45,85): [[0.37619164 0.62380836]]\n",
            "Accuracy tested on the whole training set: 0.6\n",
            "Validation accuracy on validation test: 0.6\n",
            "\n",
            "\n",
            "slover used is saga\n",
            "Sets of classes: [0. 1.] ,Trained bias: [-0.03319956] ,Trained Theta: [[0.01065662 0.00071024]]\n",
            "Probability of admited for (45,85): [[0.37596293 0.62403707]]\n",
            "Accuracy tested on the whole training set: 0.6\n",
            "Validation accuracy on validation test: 0.6\n",
            "\n",
            "\n"
          ],
          "name": "stdout"
        },
        {
          "output_type": "stream",
          "text": [
            "/usr/local/lib/python3.6/dist-packages/sklearn/utils/optimize.py:203: ConvergenceWarning: newton-cg failed to converge. Increase the number of iterations.\n",
            "  \"number of iterations.\", ConvergenceWarning)\n",
            "/usr/local/lib/python3.6/dist-packages/sklearn/linear_model/sag.py:334: ConvergenceWarning: The max_iter was reached which means the coef_ did not converge\n",
            "  \"the coef_ did not converge\", ConvergenceWarning)\n",
            "/usr/local/lib/python3.6/dist-packages/sklearn/linear_model/sag.py:334: ConvergenceWarning: The max_iter was reached which means the coef_ did not converge\n",
            "  \"the coef_ did not converge\", ConvergenceWarning)\n",
            "/usr/local/lib/python3.6/dist-packages/sklearn/linear_model/sag.py:334: ConvergenceWarning: The max_iter was reached which means the coef_ did not converge\n",
            "  \"the coef_ did not converge\", ConvergenceWarning)\n",
            "/usr/local/lib/python3.6/dist-packages/sklearn/linear_model/sag.py:334: ConvergenceWarning: The max_iter was reached which means the coef_ did not converge\n",
            "  \"the coef_ did not converge\", ConvergenceWarning)\n",
            "/usr/local/lib/python3.6/dist-packages/sklearn/linear_model/sag.py:334: ConvergenceWarning: The max_iter was reached which means the coef_ did not converge\n",
            "  \"the coef_ did not converge\", ConvergenceWarning)\n",
            "/usr/local/lib/python3.6/dist-packages/sklearn/linear_model/sag.py:334: ConvergenceWarning: The max_iter was reached which means the coef_ did not converge\n",
            "  \"the coef_ did not converge\", ConvergenceWarning)\n",
            "/usr/local/lib/python3.6/dist-packages/sklearn/linear_model/sag.py:334: ConvergenceWarning: The max_iter was reached which means the coef_ did not converge\n",
            "  \"the coef_ did not converge\", ConvergenceWarning)\n",
            "/usr/local/lib/python3.6/dist-packages/sklearn/linear_model/sag.py:334: ConvergenceWarning: The max_iter was reached which means the coef_ did not converge\n",
            "  \"the coef_ did not converge\", ConvergenceWarning)\n",
            "/usr/local/lib/python3.6/dist-packages/sklearn/linear_model/sag.py:334: ConvergenceWarning: The max_iter was reached which means the coef_ did not converge\n",
            "  \"the coef_ did not converge\", ConvergenceWarning)\n",
            "/usr/local/lib/python3.6/dist-packages/sklearn/linear_model/sag.py:334: ConvergenceWarning: The max_iter was reached which means the coef_ did not converge\n",
            "  \"the coef_ did not converge\", ConvergenceWarning)\n",
            "/usr/local/lib/python3.6/dist-packages/sklearn/linear_model/sag.py:334: ConvergenceWarning: The max_iter was reached which means the coef_ did not converge\n",
            "  \"the coef_ did not converge\", ConvergenceWarning)\n",
            "/usr/local/lib/python3.6/dist-packages/sklearn/linear_model/sag.py:334: ConvergenceWarning: The max_iter was reached which means the coef_ did not converge\n",
            "  \"the coef_ did not converge\", ConvergenceWarning)\n"
          ],
          "name": "stderr"
        }
      ]
    },
    {
      "metadata": {
        "id": "ASf2IZwT67Ig",
        "colab_type": "code",
        "colab": {}
      },
      "cell_type": "code",
      "source": [
        ""
      ],
      "execution_count": 0,
      "outputs": []
    }
  ]
}