{
  "nbformat": 4,
  "nbformat_minor": 0,
  "metadata": {
    "colab": {
      "name": "F1_score_for_unbalancedSets",
      "version": "0.3.2",
      "provenance": [],
      "collapsed_sections": [],
      "include_colab_link": true
    },
    "kernelspec": {
      "name": "python3",
      "display_name": "Python 3"
    }
  },
  "cells": [
    {
      "cell_type": "markdown",
      "metadata": {
        "id": "view-in-github",
        "colab_type": "text"
      },
      "source": [
        "<a href=\"https://colab.research.google.com/github/saunter999/Machine_learning/blob/master/F1_score_for_unbalancedSets.ipynb\" target=\"_parent\"><img src=\"https://colab.research.google.com/assets/colab-badge.svg\" alt=\"Open In Colab\"/></a>"
      ]
    },
    {
      "metadata": {
        "id": "Gql_pjkVvp2R",
        "colab_type": "code",
        "colab": {
          "base_uri": "https://localhost:8080/",
          "height": 134
        },
        "outputId": "ba6c3aa1-ca92-46f3-f511-0dc7508110e1"
      },
      "cell_type": "code",
      "source": [
        "from sklearn.metrics import f1_score,recall_score,precision_score\n",
        "from scipy import *\n",
        "import numpy as np\n",
        "\"\"\"\n",
        "testing metrics for evaluating skewed classes where y=1 is the rare class.\n",
        "\"\"\"\n",
        "\n",
        "def testPrecision_score(yp,yt):\n",
        "  \"\"\"\n",
        "  precision = #(predicted 1 & actual 1)/ #predicted 1\n",
        "  \n",
        "  \"\"\"\n",
        "  yp=np.asarray(yp)\n",
        "  yt=np.asarray(yt)\n",
        "  pred_actpos=( yt[yp==1]).sum() \n",
        "  predpos= (yp==1).sum()\n",
        "  return float(pred_actpos)/predpos\n",
        "  \n",
        "def testRecall_score(yp,yt):\n",
        "  \"\"\"\n",
        "  recall = #(predicted 1 & actual 1)/ #actual 1\n",
        "  \n",
        "  \"\"\"  \n",
        "  yp=np.asarray(yp)\n",
        "  yt=np.asarray(yt)\n",
        "  pred_actpos=( yt[yp==1]).sum() \n",
        "  actpos= (yt==1).sum()\n",
        "  return float(pred_actpos)/actpos\n",
        "\n",
        "def testf1_score(yp,yt):\n",
        "    Prec=testPrecision_score(ypred,ytrue)\n",
        "    Recall=testRecall_score(ypred,ytrue)\n",
        "    return 2.0*Prec*Recall/(Prec+Recall)\n",
        "    \n",
        "\n",
        "if __name__==\"__main__\":\n",
        "    ypred=[0,0,1,0,0,0,1,0,1,0,0,1,0,0,1,0,0]\n",
        "    ytrue=[1,0,1,0,1,0,0,0,1,0,1,0,0,1,1,1,1]\n",
        "    ##testing \n",
        "    Prec=testPrecision_score(ypred,ytrue)\n",
        "    Recall=testRecall_score(ypred,ytrue)\n",
        "    f1=testf1_score(ypred,ytrue)\n",
        "    print(\"Tested precision_score=\",Prec)\n",
        "    print(\"Tested Recall_score=\",Recall)\n",
        "    print(\"Tested f1_score=\",f1)\n",
        "    ##using sklearn functions\n",
        "    print(\"~~~~~~~using sklearn~~~~~~~~\")\n",
        "    print(\"Precision=\",precision_score(ytrue, ypred))\n",
        "    print('Recall=',recall_score(ytrue, ypred) )\n",
        "    print('f1_score=',f1_score(ytrue, ypred) )\n",
        "   "
      ],
      "execution_count": 21,
      "outputs": [
        {
          "output_type": "stream",
          "text": [
            "Tested precision_score= 0.6\n",
            "Tested Recall_score= 0.3333333333333333\n",
            "Tested f1_score= 0.42857142857142855\n",
            "~~~~~~~using sklearn~~~~~~~~\n",
            "Precision= 0.6\n",
            "Recall= 0.3333333333333333\n",
            "f1_score= 0.42857142857142855\n"
          ],
          "name": "stdout"
        }
      ]
    }
  ]
}