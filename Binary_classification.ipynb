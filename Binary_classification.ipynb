{
  "nbformat": 4,
  "nbformat_minor": 0,
  "metadata": {
    "colab": {
      "name": "Binary_classification.ipynb",
      "version": "0.3.2",
      "provenance": [],
      "collapsed_sections": [],
      "include_colab_link": true
    },
    "kernelspec": {
      "name": "python3",
      "display_name": "Python 3"
    }
  },
  "cells": [
    {
      "cell_type": "markdown",
      "metadata": {
        "id": "view-in-github",
        "colab_type": "text"
      },
      "source": [
        "<a href=\"https://colab.research.google.com/github/saunter999/Machine_learning/blob/master/Binary_classification.ipynb\" target=\"_parent\"><img src=\"https://colab.research.google.com/assets/colab-badge.svg\" alt=\"Open In Colab\"/></a>"
      ]
    },
    {
      "metadata": {
        "id": "NS986O9wUd4k",
        "colab_type": "code",
        "outputId": "06863e9a-1d14-46ec-f8fc-ac663f7193f7",
        "colab": {
          "base_uri": "https://localhost:8080/",
          "height": 762
        }
      },
      "cell_type": "code",
      "source": [
        "from scipy import *\n",
        "from pylab import *\n",
        "import pandas as pd\n",
        "import numpy as np\n",
        "from sklearn import *\n",
        "\n",
        "def preview(df):\n",
        "  #print( type(df.admit_status==1) )\n",
        "  data=df.values\n",
        "  #print(data[:,2]==1,(data[:,2]==1).shape)\n",
        "  #print(data[data[:,2]==1,1],data[data[:,2]==1,1].shape)\n",
        "  #print(data[data[:,2]==0,1],data[data[:,2]==0,1].shape)\n",
        "  admits=data[data[:,2]==1,:2]\n",
        "  notadmits=data[data[:,2]==0,:2]\n",
        "  #print(notadmits)\n",
        "  #print(admits)\n",
        "  plot(admits[:,0],admits[:,1],'ro',label='Admit')\n",
        "  plot(notadmits[:,0],notadmits[:,1],'bs',label='NotAdmit')\n",
        "  legend(loc=0,fontsize='large')\n",
        "  xlabel('score_1',size='large')\n",
        "  ylabel('score_2',size='large')\n",
        "  \n",
        "def Normalfeature(x):\n",
        "    \"\"\"\n",
        "    x should have the shape (1,nfeature)\n",
        "    \"\"\"\n",
        "    nf=x.shape[1]\n",
        "    mu=zeros(nf)\n",
        "    std=zeros(nf)\n",
        "    for i in range(nf):\n",
        "      mu[i]=np.mean(x[:,i])\n",
        "      std[i]=np.std(x[:,i])\n",
        "      x[:,i]=(x[:,i]-mu[i])/std[i]\n",
        "    return x,mu,std\n",
        "  \n",
        "class LogRegress:\n",
        "  def __init__(self,X:np.ndarray,Y:np.ndarray,Nit:int,tol:float,alpha=0.3):\n",
        "    \"\"\"\n",
        "    X is the training data with shape(nsample,nfeatures); Y is the corresponding \n",
        "    label with shape(nsample,1).\n",
        "    Nit-maximum number of iterations\n",
        "    tol-tolerance\n",
        "    alpha-learning rate\n",
        "    \"\"\"\n",
        "    self.X, self.Nit, self.tol, self.alpha = X,Nit,tol,alpha\n",
        "    if Y.ndim==1: \n",
        "       Yn=zeros((self.X.shape[0],1))\n",
        "       Yn[:,0]=Y[:]\n",
        "    else: Yn=Y\n",
        "    self.Y=Yn\n",
        "    self.nsample,self.nfeature=self.X.shape[0],self.X.shape[1]\n",
        "    bias=ones((self.nsample,1))\n",
        "    self.Xb=np.concatenate( (bias,self.X),axis=1)\n",
        "    self.theta=zeros( (self.nfeature+1,1) )\n",
        "    #self.theta=array([[-24,0.2,0.2]]).transpose()\n",
        "    self.cost=[]\n",
        "    \n",
        "  def training(self,costflag=True):\n",
        "    for i in range(self.Nit):\n",
        "        linarg=np.dot(self.Xb,self.theta)\n",
        "        h=array([self.logisticfunc(z) for z in linarg])\n",
        "        #print(h.shape,self.Y.shape,self.Xb.shape)\n",
        "        self.theta-=self.alpha/self.nsample*np.dot( self.Xb.transpose(),h-self.Y )\n",
        "     #   print(i,\"Gradient=\",1.0/self.nsample*np.dot( self.Xb.transpose(),h-self.Y ))\n",
        "        \n",
        "        if costflag==True:\n",
        "           i_cost=np.asscalar( self.costfunction(self.theta) )\n",
        "          # print(i,'cost=',i_cost,type(i_cost))\n",
        "           self.cost.append(i_cost)\n",
        "    #print(len(self.cost))  \n",
        "        \n",
        "  def costfunction(self,param):\n",
        "     linarg=np.dot(self.Xb,param)\n",
        "     h=array([self.logisticfunc(z) for z in linarg])\n",
        "     cost=1.0/self.nsample*( -np.dot(self.Y.transpose(),log(h) )-np.dot(1.0-self.Y.transpose(),log(1.0-h)) )    \n",
        "     return cost\n",
        "     \n",
        "        \n",
        "        \n",
        "  def predict(self,param,xn):\n",
        "    \"\"\"\n",
        "    param is the trained theta\n",
        "    xn should have the shape (1,nfeature)\n",
        "    Return the prediction for new data xn\n",
        "    \"\"\"\n",
        "    z=np.asscalar( param[0]+np.dot(xn,param[1:]) )\n",
        "    return self.logisticfunc(z) \n",
        "\n",
        "  \n",
        "  def logisticfunc(self,z):\n",
        "   # print(z,1.0/(1.0+exp(-z)))\n",
        "    return 1.0/(1.0+exp(-z))\n",
        "  \n",
        "if __name__==\"__main__\":\n",
        "    url='https://raw.githubusercontent.com/saunter999/datasets/master/score_admit.csv'\n",
        "    df=pd.read_csv(url,header=None,names=['score1','score2','admit_status'])\n",
        "    figure(1)\n",
        "    preview(df)\n",
        "    ##perform feature normalization\n",
        "    Xnorm,mu,std=Normalfeature(df.values[:,:-1])\n",
        "    X,Y,Nit,tol=Xnorm,df.values[:,-1],3000,0.01\n",
        "   # print(X,mu,std)\n",
        "    mylogReg=LogRegress(X,Y,Nit,tol)\n",
        "    mylogReg.training()\n",
        "    figure(2)\n",
        "    plot(range(Nit),mylogReg.cost,'co-',markersize=2)\n",
        "    print(\"Trained Theta=\",mylogReg.theta)\n",
        "    print ( \"prediction for score(45,85)=\",mylogReg.predict( mylogReg.theta,  array([[ (45-mu[0])/std[0],(85-mu[1])/std[1]]]) ) )\n",
        "    show()\n"
      ],
      "execution_count": 0,
      "outputs": [
        {
          "output_type": "stream",
          "text": [
            "Trained Theta= [[1.71528667]\n",
            " [3.98603441]\n",
            " [3.71860168]]\n",
            "prediction for score(45,85)= 0.7758390800683945\n"
          ],
          "name": "stdout"
        },
        {
          "output_type": "display_data",
          "data": {
            "image/png": "[encoded data removed]",
            "text/plain": [
              "<matplotlib.figure.Figure at 0x7f0d5ae62cc0>"
            ]
          },
          "metadata": {
            "tags": []
          }
        },
        {
          "output_type": "display_data",
          "data": {
            "image/png": "[encoded data removed]",
            "text/plain": [
              "<matplotlib.figure.Figure at 0x7f0d5aebad30>"
            ]
          },
          "metadata": {
            "tags": []
          }
        }
      ]
    },
    {
      "metadata": {
        "id": "pju9AL2aU8D3",
        "colab_type": "code",
        "colab": {}
      },
      "cell_type": "code",
      "source": [
        ""
      ],
      "execution_count": 0,
      "outputs": []
    }
  ]
}