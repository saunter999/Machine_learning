{
  "nbformat": 4,
  "nbformat_minor": 0,
  "metadata": {
    "colab": {
      "name": "Binary_classification.ipynb",
      "version": "0.3.2",
      "provenance": [],
      "collapsed_sections": [],
      "include_colab_link": true
    },
    "kernelspec": {
      "name": "python3",
      "display_name": "Python 3"
    }
  },
  "cells": [
    {
      "cell_type": "markdown",
      "metadata": {
        "id": "view-in-github",
        "colab_type": "text"
      },
      "source": [
        "<a href=\"https://colab.research.google.com/github/saunter999/Machine_learning/blob/master/Binary_classification.ipynb\" target=\"_parent\"><img src=\"https://colab.research.google.com/assets/colab-badge.svg\" alt=\"Open In Colab\"/></a>"
      ]
    },
    {
      "metadata": {
        "id": "MMwTKOfho9RE",
        "colab_type": "code",
        "colab": {
          "base_uri": "https://localhost:8080/",
          "height": 797
        },
        "outputId": "566b02be-bb37-4218-cf80-eaa1cb0e5735"
      },
      "cell_type": "code",
      "source": [
        "from scipy import *\n",
        "from pylab import *\n",
        "import pandas as pd\n",
        "import numpy as np\n",
        "from copy import deepcopy as dp\n",
        "\n",
        "def preview(df):\n",
        "  #print( type(df.admit_status==1) )\n",
        "  data=df.values\n",
        "  #print(data[:,2]==1,(data[:,2]==1).shape)\n",
        "  #print(data[data[:,2]==1,1],data[data[:,2]==1,1].shape)\n",
        "  #print(data[data[:,2]==0,1],data[data[:,2]==0,1].shape)\n",
        "  admits=data[data[:,2]==1,:2]\n",
        "  notadmits=data[data[:,2]==0,:2]\n",
        "  #print(notadmits)\n",
        "  #print(admits)\n",
        "  plot(admits[:,0],admits[:,1],'ro',label='Admit')\n",
        "  plot(notadmits[:,0],notadmits[:,1],'bs',label='NotAdmit')\n",
        "  legend(loc=0,fontsize='large')\n",
        "  xlabel('score_1',size='large')\n",
        "  ylabel('score_2',size='large')\n",
        "  \n",
        "\n",
        "  \n",
        "class LogRegress:\n",
        "  def __init__(self,X:np.ndarray,Y:np.ndarray,Nit:int,tol:float,alpha=0.3,C:float=0.0,nfflag:bool=True):\n",
        "    \"\"\"\n",
        "    X is the training data with shape(nsample,nfeatures); Y is the corresponding \n",
        "    label with shape(nsample,1).\n",
        "    Nit-maximum number of iterations\n",
        "    tol-tolerance\n",
        "    alpha-learning rate\n",
        "    C-regularization parameter (L2 norm)\n",
        "    nfflag: flag for normalizing features\n",
        "    \"\"\"\n",
        "    self.X, self.Nit, self.tol, self.alpha, self.C, self.nfflag = dp(X),dp(Nit),dp(tol),dp(alpha),dp(C),dp(nfflag)\n",
        "    if nfflag: self.Normalfeature()\n",
        "    if Y.ndim==1: \n",
        "       Yn=zeros((self.X.shape[0],1))\n",
        "       Yn[:,0]=Y[:]\n",
        "    else: Yn=Y\n",
        "    self.Y=Yn\n",
        "    self.nsample,self.nfeature=self.X.shape[0],self.X.shape[1]\n",
        "    bias=ones((self.nsample,1))\n",
        "    self.Xb=np.concatenate( (bias,self.X),axis=1)\n",
        "    self.theta=zeros( (self.nfeature+1,1) )\n",
        "    self.cost=[]\n",
        "    \n",
        "  def training(self,costflag=True):\n",
        "    for i in range(self.Nit):\n",
        "        linarg=np.dot(self.Xb,self.theta)\n",
        "        h=array([self.logisticfunc(z) for z in linarg])\n",
        "        #print(h.shape,self.Y.shape,self.Xb.shape)\n",
        "        self.theta-=self.alpha/self.nsample*np.dot( self.Xb.transpose(),h-self.Y )\n",
        "     #   print(i,\"Gradient=\",1.0/self.nsample*np.dot( self.Xb.transpose(),h-self.Y ))\n",
        "        \n",
        "        if costflag==True:\n",
        "           i_cost=np.asscalar( self.costfunction(self.theta) )\n",
        "          # print(i,'cost=',i_cost,type(i_cost))\n",
        "           self.cost.append(i_cost)\n",
        "    #print(len(self.cost))  \n",
        "    \n",
        "  def Normalfeature(self):\n",
        "    nf=self.X.shape[1]\n",
        "    self.mu=zeros(nf)\n",
        "    self.std=zeros(nf)\n",
        "    for i in range(nf):\n",
        "      self.mu[i]=np.mean(self.X[:,i])\n",
        "      self.std[i]=np.std(self.X[:,i])\n",
        "      self.X[:,i]=(self.X[:,i]-self.mu[i])/self.std[i]\n",
        "    #print(self.mu,self.std)\n",
        "        \n",
        "  def costfunction(self,param):\n",
        "     linarg=np.dot(self.Xb,param)\n",
        "     h=array([self.logisticfunc(z) for z in linarg])\n",
        "     cost=1.0/self.nsample*( -np.dot(self.Y.transpose(),log(h) )-np.dot(1.0-self.Y.transpose(),log(1.0-h)) )    \n",
        "     return cost\n",
        "     \n",
        "        \n",
        "        \n",
        "  def predict_prob(self,param,xn):\n",
        "    \"\"\"\n",
        "    param is the trained theta\n",
        "    xn should have the shape (ntest,nfeature)\n",
        "    Return the prediction for new data xn\n",
        "    \"\"\"\n",
        "    xn=xn.astype(float)  ##this line is necessary,which is somehow strange\n",
        "    if self.nfflag:\n",
        "        nf=xn.shape[1]\n",
        "        #print(self.mu,self.std)\n",
        "        for i in range(nf):\n",
        "           xn[:,i]=(xn[:,i]-self.mu[i])/self.std[i]\n",
        "   # print(  param[0]+np.dot(xn,param[1:])  )\n",
        "    z= param[0]+np.dot(xn,param[1:]) \n",
        "    return self.logisticfunc(z) \n",
        "  \n",
        "  def score(self,x,y,param):\n",
        "    \"\"\"\n",
        "    param is the trained theta\n",
        "    x should have the shape (ntest,nfeature)\n",
        "    y should have the shape (ntest,1)\n",
        "    Return the prediction for known data x and its label y\n",
        "    \"\"\"\n",
        "    if y.ndim==1: \n",
        "       yn=zeros((x.shape[0],1))\n",
        "       yn[:,0]=y[:]\n",
        "       \n",
        "    pred=self.predict_prob(param,x)>0.5\n",
        "   # print(pred.shape,yn.shape)\n",
        "    return ( np.sum (pred==yn)/len(y) )\n",
        "    \n",
        "\n",
        "  \n",
        "  def logisticfunc(self,z):\n",
        "   # print(z,1.0/(1.0+exp(-z)))\n",
        "    return 1.0/(1.0+exp(-z))\n",
        "  \n",
        "if __name__==\"__main__\":\n",
        "    url='https://raw.githubusercontent.com/saunter999/datasets/master/score_admit.csv'\n",
        "    df=pd.read_csv(url,header=None,names=['score1','score2','admit_status'])\n",
        "    figure(1)\n",
        "    preview(df)\n",
        "    X,Y,Nit,tol=df.values[:,:-1],df.values[:,-1],3000,0.01 \n",
        "    mylogReg=LogRegress(X,Y,Nit,tol)\n",
        "    mylogReg.training()\n",
        "    figure(2)\n",
        "    plot(range(Nit),mylogReg.cost,'co-',markersize=2)\n",
        "    xlabel(\"Nit\",size='large')\n",
        "    ylabel(\"J_cost\",size='large')\n",
        "    print(\"Trained Theta=\",mylogReg.theta)\n",
        "    print ( \"probability for score(45,85)=\",mylogReg.predict_prob( mylogReg.theta,  array([[45,85]]) ) )\n",
        "    #Accuracy for correct prediction on the whole training set\n",
        "    score=mylogReg.score(X,Y,mylogReg.theta)\n",
        "    print(\"Accuracy aka.correct prediction on the whole training set:\",score)\n",
        "    show()\n"
      ],
      "execution_count": 25,
      "outputs": [
        {
          "output_type": "stream",
          "text": [
            "Trained Theta= [[1.71528667]\n",
            " [3.98603441]\n",
            " [3.71860168]]\n",
            "probability for score(45,85)= [[0.77583908]]\n",
            "Accuracy aka.correct prediction on the whole training set: 0.89\n"
          ],
          "name": "stdout"
        },
        {
          "output_type": "display_data",
          "data": {
            "image/png": "[encoded data removed]",
            "text/plain": [
              "<matplotlib.figure.Figure at 0x7fa27d95c7b8>"
            ]
          },
          "metadata": {
            "tags": []
          }
        },
        {
          "output_type": "display_data",
          "data": {
            "image/png": "[encoded data removed]",
            "text/plain": [
              "<matplotlib.figure.Figure at 0x7fa27dacfc88>"
            ]
          },
          "metadata": {
            "tags": []
          }
        }
      ]
    }
  ]
}