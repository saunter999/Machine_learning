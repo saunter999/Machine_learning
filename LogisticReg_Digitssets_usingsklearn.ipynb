{
  "nbformat": 4,
  "nbformat_minor": 0,
  "metadata": {
    "colab": {
      "name": "LogisticReg_Digitssets_usingsklearn.ipynb",
      "version": "0.3.2",
      "provenance": [],
      "collapsed_sections": [],
      "include_colab_link": true
    },
    "kernelspec": {
      "name": "python3",
      "display_name": "Python 3"
    }
  },
  "cells": [
    {
      "cell_type": "markdown",
      "metadata": {
        "id": "view-in-github",
        "colab_type": "text"
      },
      "source": [
        "<a href=\"https://colab.research.google.com/github/saunter999/Machine_learning/blob/master/LogisticReg_Digitssets_usingsklearn.ipynb\" target=\"_parent\"><img src=\"https://colab.research.google.com/assets/colab-badge.svg\" alt=\"Open In Colab\"/></a>"
      ]
    },
    {
      "metadata": {
        "id": "1fV2rOa2uVLe",
        "colab_type": "code",
        "colab": {
          "base_uri": "https://localhost:8080/",
          "height": 673
        },
        "outputId": "56babde5-24c8-4b75-b11b-3a83a2299288"
      },
      "cell_type": "code",
      "source": [
        "from sklearn.datasets import load_digits\n",
        "import matplotlib.pyplot as plt\n",
        "import numpy as np\n",
        "from sklearn.model_selection import train_test_split\n",
        "from sklearn.linear_model import LogisticRegression\n",
        "\n",
        "if __name__==\"__main__\":\n",
        "  digits = load_digits()\n",
        "  print('Image Data Shape' , digits.data.shape)\n",
        "  print('Image Data Shape' , digits.target.shape)\n",
        "  \n",
        "  plt.figure(figsize=(20,4))\n",
        "  for index, (image, label) in enumerate(zip(digits.data[0:5], digits.target[0:5])):\n",
        "     plt.subplot(1, 5, index + 1)\n",
        "     plt.imshow(np.reshape(image, (8,8)), cmap=plt.cm.gray)\n",
        "     plt.title('Training: %i\\n' % label, fontsize = 20)\n",
        "  x_train, x_test, y_train, y_test = \\\n",
        "  train_test_split(digits.data, digits.target, test_size=0.25, random_state=0)\n",
        "  print(x_test[0].shape,x_test.shape)\n",
        "  #logistic training\n",
        "  logisticRegr = LogisticRegression()\n",
        "  myLogReg=logisticRegr.fit(x_train, y_train)\n",
        "  # Predict for One Observation (image)\n",
        "  print(myLogReg.predict( (x_test[0]).reshape(1,-1)) )\n",
        "  print(myLogReg.predict(x_test))\n",
        "  # Use score method to get accuracy of model\n",
        "  score = myLogReg.score(x_test, y_test)\n",
        "  print(score)\n"
      ],
      "execution_count": 15,
      "outputs": [
        {
          "output_type": "stream",
          "text": [
            "Image Data Shape (1797, 64)\n",
            "Image Data Shape (1797,)\n",
            "(64,) (450, 64)\n"
          ],
          "name": "stdout"
        },
        {
          "output_type": "stream",
          "text": [
            "/usr/local/lib/python3.6/dist-packages/sklearn/linear_model/logistic.py:433: FutureWarning: Default solver will be changed to 'lbfgs' in 0.22. Specify a solver to silence this warning.\n",
            "  FutureWarning)\n",
            "/usr/local/lib/python3.6/dist-packages/sklearn/linear_model/logistic.py:460: FutureWarning: Default multi_class will be changed to 'auto' in 0.22. Specify the multi_class option to silence this warning.\n",
            "  \"this warning.\", FutureWarning)\n"
          ],
          "name": "stderr"
        },
        {
          "output_type": "stream",
          "text": [
            "[2]\n",
            "[2 8 2 6 6 7 1 9 8 5 2 8 6 6 6 6 1 0 5 8 8 7 8 4 7 5 4 9 2 9 4 7 6 8 9 4 3\n",
            " 8 0 1 8 6 7 7 1 0 7 6 2 1 9 6 7 9 0 0 5 1 6 3 0 2 3 4 1 9 2 6 9 1 8 3 5 1\n",
            " 2 8 2 2 9 7 2 3 6 0 5 3 7 5 1 2 9 9 3 1 4 7 4 8 5 8 5 5 2 5 9 0 7 1 4 1 3\n",
            " 4 8 9 7 9 8 2 6 5 2 5 8 4 1 7 0 6 1 5 5 9 9 5 9 9 5 7 5 6 2 8 6 9 6 1 5 1\n",
            " 5 9 9 1 5 3 6 1 8 9 8 7 6 7 6 5 6 0 8 8 9 8 6 1 0 4 1 6 3 8 6 7 4 1 6 3 0\n",
            " 3 3 3 0 7 7 5 7 8 0 7 1 9 6 4 5 0 1 4 6 4 3 3 0 9 5 3 2 1 4 2 1 6 9 9 2 4\n",
            " 9 3 7 6 2 3 3 1 6 9 3 6 3 3 2 0 7 6 1 1 9 7 2 7 8 5 5 7 5 3 3 7 2 7 5 5 7\n",
            " 0 9 1 6 5 9 7 4 3 8 0 3 6 4 6 3 2 6 8 8 8 4 6 7 5 2 4 5 3 2 4 6 9 4 5 4 3\n",
            " 4 6 2 9 0 6 7 2 0 9 6 0 4 2 0 7 8 8 5 4 8 2 8 4 3 7 2 6 9 1 5 1 0 8 2 8 9\n",
            " 5 6 2 2 7 2 1 5 1 6 4 5 0 9 4 1 1 7 0 8 9 0 5 4 3 8 8 6 5 3 4 4 4 8 8 7 0\n",
            " 9 6 3 5 2 3 0 8 2 3 1 3 3 0 0 4 6 0 7 7 6 2 0 4 4 2 3 7 1 9 8 6 8 5 6 2 2\n",
            " 3 1 7 7 8 0 9 3 2 6 5 5 9 1 3 7 0 0 3 0 4 5 9 3 3 4 3 1 8 9 8 3 6 3 1 6 2\n",
            " 1 7 5 5 1 9]\n",
            "0.9533333333333334\n"
          ],
          "name": "stdout"
        },
        {
          "output_type": "display_data",
          "data": {
            "image/png": "[encoded data removed]",
            "text/plain": [
              "<matplotlib.figure.Figure at 0x7f5892bc6208>"
            ]
          },
          "metadata": {
            "tags": []
          }
        }
      ]
    }
  ]
}