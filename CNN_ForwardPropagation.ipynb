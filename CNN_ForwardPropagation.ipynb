{
  "nbformat": 4,
  "nbformat_minor": 0,
  "metadata": {
    "colab": {
      "name": "CNN_ForwardPropagation.ipynb",
      "version": "0.3.2",
      "provenance": [],
      "collapsed_sections": [],
      "include_colab_link": true
    },
    "kernelspec": {
      "name": "python3",
      "display_name": "Python 3"
    }
  },
  "cells": [
    {
      "cell_type": "markdown",
      "metadata": {
        "id": "view-in-github",
        "colab_type": "text"
      },
      "source": [
        "<a href=\"https://colab.research.google.com/github/saunter999/Machine_learning/blob/master/CNN_ForwardPropagation.ipynb\" target=\"_parent\"><img src=\"https://colab.research.google.com/assets/colab-badge.svg\" alt=\"Open In Colab\"/></a>"
      ]
    },
    {
      "metadata": {
        "id": "LMDGOC5VjJFz",
        "colab_type": "code",
        "outputId": "07c7c32c-a6a7-41dd-cbe7-b242f0afe880",
        "colab": {
          "base_uri": "https://localhost:8080/",
          "height": 118
        }
      },
      "cell_type": "code",
      "source": [
        "from scipy import *\n",
        "\n",
        "class conn_cc:\n",
        "    def __init__(self,struc:list):\n",
        "      \"\"\"\n",
        "      Initialization the network structure of the fully\n",
        "      connected neural network\n",
        "      \"\"\"\n",
        "      self.struc=struc\n",
        "      self.L=len(self.struc)\n",
        "      #self.Theta=Theta\n",
        "    def printinfo(self):\n",
        "      print(\"~~~~~~~~~~INFO of Fully connected neural network~~~~~~~~~~\")\n",
        "      print(\"conn_cc Layer #:\",self.L)\n",
        "      print(\"# of units across the network starting from the input layer:\",self.struc)\n",
        "      print(\"# of features or units of the input layer:\",self.struc[0])\n",
        "      print(\"# of units of the output layer:\",self.struc[-1])\n",
        "      print(\"~~~~~~~~~~~~~~~~~~~~~~~~~~~~~~~~~~~~~~~~~~~~~~~~~~~~~~~~~~\")\n",
        "if __name__==\"__main__\":\n",
        "    \n",
        "    struc=[5,6,6,3]\n",
        "    mycnn=conn_cc(struc)\n",
        "    mycnn.printinfo()"
      ],
      "execution_count": 10,
      "outputs": [
        {
          "output_type": "stream",
          "text": [
            "~~~~~~~~~~INFO of Fully connected neural network~~~~~~~~~~\n",
            "conn_cc Layer #: 4\n",
            "# of units across the network starting from the input layer: [5, 6, 6, 3]\n",
            "# of features or units of the input layer: 5\n",
            "# of units of the output layer: 3\n",
            "~~~~~~~~~~~~~~~~~~~~~~~~~~~~~~~~~~~~~~~~~~~~~~~~~~~~~~~~~~\n"
          ],
          "name": "stdout"
        }
      ]
    }
  ]
}