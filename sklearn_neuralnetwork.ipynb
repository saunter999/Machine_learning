{
  "nbformat": 4,
  "nbformat_minor": 0,
  "metadata": {
    "colab": {
      "name": "sklearn_neuralnetwork.ipynb",
      "version": "0.3.2",
      "provenance": [],
      "collapsed_sections": [],
      "include_colab_link": true
    },
    "kernelspec": {
      "name": "python3",
      "display_name": "Python 3"
    }
  },
  "cells": [
    {
      "cell_type": "markdown",
      "metadata": {
        "id": "view-in-github",
        "colab_type": "text"
      },
      "source": [
        "<a href=\"https://colab.research.google.com/github/saunter999/Machine_learning/blob/master/sklearn_neuralnetwork.ipynb\" target=\"_parent\"><img src=\"https://colab.research.google.com/assets/colab-badge.svg\" alt=\"Open In Colab\"/></a>"
      ]
    },
    {
      "metadata": {
        "id": "jIQIfuG90Gpb",
        "colab_type": "code",
        "outputId": "8af7cc98-7818-4298-a8f4-aa4d87ae7bd6",
        "colab": {
          "base_uri": "https://localhost:8080/",
          "height": 154
        }
      },
      "cell_type": "code",
      "source": [
        "from sklearn.neural_network import MLPClassifier\n",
        "import pandas as pd\n",
        "from scipy import *\n",
        "\n",
        "if __name__==\"__main__\":\n",
        "  xurl='https://raw.githubusercontent.com/saunter999/Machine_learning/master/python_codes/cnn/Xinp.txt'\n",
        "  X=loadtxt(xurl)\n",
        "  yurl='https://raw.githubusercontent.com/saunter999/Machine_learning/master/python_codes/cnn/Yout.txt'\n",
        "  Y=loadtxt(yurl)\n",
        "  mtdls=['lbfgs', 'sgd', 'adam']\n",
        "  for mtd in mtdls:\n",
        "    clf=MLPClassifier(activation='logistic', alpha=1.0, batch_size='auto',\n",
        "              hidden_layer_sizes=(25),\n",
        "              max_iter=100, random_state=1,solver=mtd, tol=0.0001)\n",
        "    trained=clf.fit(X,Y)\n",
        "    score=trained.score(X,Y)\n",
        "    print('Method:',mtd,\"score:\",score)\n",
        "  "
      ],
      "execution_count": 27,
      "outputs": [
        {
          "output_type": "stream",
          "text": [
            "Method: lbfgs score: 0.9964\n"
          ],
          "name": "stdout"
        },
        {
          "output_type": "stream",
          "text": [
            "/usr/local/lib/python3.6/dist-packages/sklearn/neural_network/multilayer_perceptron.py:562: ConvergenceWarning: Stochastic Optimizer: Maximum iterations (100) reached and the optimization hasn't converged yet.\n",
            "  % self.max_iter, ConvergenceWarning)\n"
          ],
          "name": "stderr"
        },
        {
          "output_type": "stream",
          "text": [
            "Method: sgd score: 0.74\n",
            "Method: adam score: 0.912\n"
          ],
          "name": "stdout"
        },
        {
          "output_type": "stream",
          "text": [
            "/usr/local/lib/python3.6/dist-packages/sklearn/neural_network/multilayer_perceptron.py:562: ConvergenceWarning: Stochastic Optimizer: Maximum iterations (100) reached and the optimization hasn't converged yet.\n",
            "  % self.max_iter, ConvergenceWarning)\n"
          ],
          "name": "stderr"
        }
      ]
    }
  ]
}